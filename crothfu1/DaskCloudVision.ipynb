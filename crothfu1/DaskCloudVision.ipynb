{
 "cells": [
  {
   "cell_type": "code",
   "execution_count": 1,
   "id": "8ce1c3c9-8573-4e4e-858f-efbed8f7d5fa",
   "metadata": {},
   "outputs": [
    {
     "name": "stdout",
     "output_type": "stream",
     "text": [
      "Collecting dask\n",
      "  Downloading dask-2023.8.1-py3-none-any.whl (1.2 MB)\n",
      "\u001b[2K     \u001b[90m━━━━━━━━━━━━━━━━━━━━━━━━━━━━━━━━━━━━━━━━\u001b[0m \u001b[32m1.2/1.2 MB\u001b[0m \u001b[31m9.1 MB/s\u001b[0m eta \u001b[36m0:00:00\u001b[0m:00:01\u001b[0m00:01\u001b[0m\n",
      "\u001b[?25hCollecting click>=8.0 (from dask)\n",
      "  Downloading click-8.1.7-py3-none-any.whl (97 kB)\n",
      "\u001b[2K     \u001b[90m━━━━━━━━━━━━━━━━━━━━━━━━━━━━━━━━━━━━━━━━\u001b[0m \u001b[32m97.9/97.9 kB\u001b[0m \u001b[31m23.1 MB/s\u001b[0m eta \u001b[36m0:00:00\u001b[0m\n",
      "\u001b[?25hCollecting cloudpickle>=1.5.0 (from dask)\n",
      "  Downloading cloudpickle-2.2.1-py3-none-any.whl (25 kB)\n",
      "Collecting fsspec>=2021.09.0 (from dask)\n",
      "  Downloading fsspec-2023.6.0-py3-none-any.whl (163 kB)\n",
      "\u001b[2K     \u001b[90m━━━━━━━━━━━━━━━━━━━━━━━━━━━━━━━━━━━━━━━\u001b[0m \u001b[32m163.8/163.8 kB\u001b[0m \u001b[31m3.0 MB/s\u001b[0m eta \u001b[36m0:00:00\u001b[0ma \u001b[36m0:00:01\u001b[0m\n",
      "\u001b[?25hRequirement already satisfied: packaging>=20.0 in /pfs/tc1/project/arcc-students/crothfu1/environments/ocr_env/lib/python3.9/site-packages (from dask) (23.0)\n",
      "Collecting partd>=1.2.0 (from dask)\n",
      "  Downloading partd-1.4.0-py3-none-any.whl (18 kB)\n",
      "Collecting pyyaml>=5.3.1 (from dask)\n",
      "  Downloading PyYAML-6.0.1-cp39-cp39-manylinux_2_17_x86_64.manylinux2014_x86_64.whl (738 kB)\n",
      "\u001b[2K     \u001b[90m━━━━━━━━━━━━━━━━━━━━━━━━━━━━━━━━━━━━━━\u001b[0m \u001b[32m738.9/738.9 kB\u001b[0m \u001b[31m20.2 MB/s\u001b[0m eta \u001b[36m0:00:00\u001b[0m00:01\u001b[0m\n",
      "\u001b[?25hCollecting toolz>=0.10.0 (from dask)\n",
      "  Downloading toolz-0.12.0-py3-none-any.whl (55 kB)\n",
      "\u001b[2K     \u001b[90m━━━━━━━━━━━━━━━━━━━━━━━━━━━━━━━━━━━━━━━━\u001b[0m \u001b[32m55.8/55.8 kB\u001b[0m \u001b[31m12.7 MB/s\u001b[0m eta \u001b[36m0:00:00\u001b[0m\n",
      "\u001b[?25hRequirement already satisfied: importlib-metadata>=4.13.0 in /pfs/tc1/project/arcc-students/crothfu1/environments/ocr_env/lib/python3.9/site-packages (from dask) (6.0.0)\n",
      "Requirement already satisfied: zipp>=0.5 in /pfs/tc1/project/arcc-students/crothfu1/environments/ocr_env/lib/python3.9/site-packages (from importlib-metadata>=4.13.0->dask) (3.11.0)\n",
      "Collecting locket (from partd>=1.2.0->dask)\n",
      "  Downloading locket-1.0.0-py2.py3-none-any.whl (4.4 kB)\n",
      "Installing collected packages: toolz, pyyaml, locket, fsspec, cloudpickle, click, partd, dask\n",
      "Successfully installed click-8.1.7 cloudpickle-2.2.1 dask-2023.8.1 fsspec-2023.6.0 locket-1.0.0 partd-1.4.0 pyyaml-6.0.1 toolz-0.12.0\n",
      "Note: you may need to restart the kernel to use updated packages.\n"
     ]
    }
   ],
   "source": [
    "pip install dask"
   ]
  },
  {
   "cell_type": "code",
   "execution_count": 2,
   "id": "e519cb67-dddc-4827-9b3b-9000f2ce567f",
   "metadata": {},
   "outputs": [],
   "source": [
    "import io\n",
    "import os\n",
    "from google.cloud import vision\n",
    "from pdf2image import convert_from_path\n",
    "import dask\n",
    "\n",
    "# Set up Vision client \n",
    "os.environ['GOOGLE_APPLICATION_CREDENTIALS'] = 'savvy-hybrid-389017-984cabbf64b0.json'\n",
    "poppler = \"/project/arcc-students/csloan5/environments/GPU_env/bin/\"\n",
    "client = vision.ImageAnnotatorClient()\n",
    "\n",
    "# Top level folder containing subfolders of PDFs \n",
    "root_folder = '/project/arcc-students/OilWellProject2023.Summer/vert_pages'\n",
    "output_folder = 'jsons/Testing/'\n",
    "\n",
    "def ocr_pdf(pdf_path, output_path):\n",
    "    \"\"\"OCR a single PDF\"\"\"\n",
    "    images = convert_from_path(pdf_path,poppler_path=poppler)\n",
    "    image = images[0]\n",
    "    buf = io.BytesIO()\n",
    "    image.save(buf, format='JPEG')\n",
    "    byte_im = buf.getvalue()\n",
    "    image = vision.Image(content=byte_im)\n",
    "    response = client.document_text_detection(image=image)\n",
    "\n",
    "    json_string = type(response).to_json(response)\n",
    "    text_path = os.path.splitext(pdf_path)[0] + '.json'\n",
    "    output_path = os.path.join(output_folder, text_path)\n",
    "    print(output_path)\n",
    "    with open(output_path, 'w') as text_file:\n",
    "        print(json_string, file=text_file)\n",
    "\n",
    "    \n",
    "def process_folder(folder_path):\n",
    "    \"\"\"Process a single subfolder\"\"\"\n",
    "    output_folder =  os.path.join(output_root, folder_path.split(os.sep)[-1])\n",
    "    os.makedirs(output_folder, exist_ok=True)\n",
    "  \n",
    "    for root, files in os.walk(folder_path):\n",
    "        for pdf_path in files:\n",
    "            if pdf_path.endswith('.pdf'):\n",
    "                pdf_full_path = os.path.join(root, pdf_path)\n",
    "                filename = os.path.splitext(pdf_path)[0]\n",
    "                output_path = os.path.join(output_folder, f\"{filename}.json\")\n",
    "                dask.delayed(ocr_pdf)(pdf_full_path, output_path)\n",
    "  "
   ]
  },
  {
   "cell_type": "code",
   "execution_count": 8,
   "id": "f8c49cd6-04bf-4722-9a36-12513fd00875",
   "metadata": {},
   "outputs": [
    {
     "name": "stdout",
     "output_type": "stream",
     "text": [
      "hellohello\n",
      "\n",
      "hello\n",
      "OCR complete for all PDFs\n"
     ]
    }
   ],
   "source": [
    "      \n",
    "if __name__ == '__main__':\n",
    "\n",
    "    folders = [os.path.join(root_folder, f) for f in os.listdir(root_folder) if os.path.isdir(os.path.join(root_folder, f))]\n",
    "\n",
    "    output_root = 'jsons/Testing/'\n",
    "\n",
    "    tasks = [dask.delayed(process_folder)(f) for f in folders]\n",
    "\n",
    "    dask.compute(*tasks)\n",
    "\n",
    "    print('OCR complete for all PDFs')"
   ]
  },
  {
   "cell_type": "code",
   "execution_count": 20,
   "id": "ecb0f59a-26a5-4405-a1d8-c5235359be7f",
   "metadata": {},
   "outputs": [
    {
     "name": "stdout",
     "output_type": "stream",
     "text": [
      "bruh\n",
      "jsons/Testing\n"
     ]
    },
    {
     "ename": "IsADirectoryError",
     "evalue": "[Errno 21] Is a directory: 'jsons/Testing'",
     "output_type": "error",
     "traceback": [
      "\u001b[0;31m---------------------------------------------------------------------------\u001b[0m",
      "\u001b[0;31mIsADirectoryError\u001b[0m                         Traceback (most recent call last)",
      "Cell \u001b[0;32mIn[20], line 1\u001b[0m\n\u001b[0;32m----> 1\u001b[0m \u001b[43mocr_pdf\u001b[49m\u001b[43m(\u001b[49m\u001b[38;5;124;43m'\u001b[39;49m\u001b[38;5;124;43mTestN/Temp2/bruh.pdf\u001b[39;49m\u001b[38;5;124;43m'\u001b[39;49m\u001b[43m,\u001b[49m\u001b[38;5;124;43m'\u001b[39;49m\u001b[38;5;124;43mjsons/Testing\u001b[39;49m\u001b[38;5;124;43m'\u001b[39;49m\u001b[43m)\u001b[49m\n",
      "Cell \u001b[0;32mIn[19], line 30\u001b[0m, in \u001b[0;36mocr_pdf\u001b[0;34m(pdf_path, output_path)\u001b[0m\n\u001b[1;32m     28\u001b[0m json_string \u001b[38;5;241m=\u001b[39m \u001b[38;5;28mtype\u001b[39m(response)\u001b[38;5;241m.\u001b[39mto_json(response)\n\u001b[1;32m     29\u001b[0m \u001b[38;5;28mprint\u001b[39m(output_path)\n\u001b[0;32m---> 30\u001b[0m \u001b[38;5;28;01mwith\u001b[39;00m \u001b[38;5;28;43mopen\u001b[39;49m\u001b[43m(\u001b[49m\u001b[43moutput_path\u001b[49m\u001b[43m,\u001b[49m\u001b[43m \u001b[49m\u001b[38;5;124;43m'\u001b[39;49m\u001b[38;5;124;43mw\u001b[39;49m\u001b[38;5;124;43m'\u001b[39;49m\u001b[43m)\u001b[49m \u001b[38;5;28;01mas\u001b[39;00m text_file:\n\u001b[1;32m     31\u001b[0m     \u001b[38;5;28mprint\u001b[39m(json_string, file\u001b[38;5;241m=\u001b[39mtext_file)\n",
      "File \u001b[0;32m/pfs/tc1/project/arcc-students/crothfu1/environments/ocr_env/lib/python3.9/site-packages/IPython/core/interactiveshell.py:284\u001b[0m, in \u001b[0;36m_modified_open\u001b[0;34m(file, *args, **kwargs)\u001b[0m\n\u001b[1;32m    277\u001b[0m \u001b[38;5;28;01mif\u001b[39;00m file \u001b[38;5;129;01min\u001b[39;00m {\u001b[38;5;241m0\u001b[39m, \u001b[38;5;241m1\u001b[39m, \u001b[38;5;241m2\u001b[39m}:\n\u001b[1;32m    278\u001b[0m     \u001b[38;5;28;01mraise\u001b[39;00m \u001b[38;5;167;01mValueError\u001b[39;00m(\n\u001b[1;32m    279\u001b[0m         \u001b[38;5;124mf\u001b[39m\u001b[38;5;124m\"\u001b[39m\u001b[38;5;124mIPython won\u001b[39m\u001b[38;5;124m'\u001b[39m\u001b[38;5;124mt let you open fd=\u001b[39m\u001b[38;5;132;01m{\u001b[39;00mfile\u001b[38;5;132;01m}\u001b[39;00m\u001b[38;5;124m by default \u001b[39m\u001b[38;5;124m\"\u001b[39m\n\u001b[1;32m    280\u001b[0m         \u001b[38;5;124m\"\u001b[39m\u001b[38;5;124mas it is likely to crash IPython. If you know what you are doing, \u001b[39m\u001b[38;5;124m\"\u001b[39m\n\u001b[1;32m    281\u001b[0m         \u001b[38;5;124m\"\u001b[39m\u001b[38;5;124myou can use builtins\u001b[39m\u001b[38;5;124m'\u001b[39m\u001b[38;5;124m open.\u001b[39m\u001b[38;5;124m\"\u001b[39m\n\u001b[1;32m    282\u001b[0m     )\n\u001b[0;32m--> 284\u001b[0m \u001b[38;5;28;01mreturn\u001b[39;00m \u001b[43mio_open\u001b[49m\u001b[43m(\u001b[49m\u001b[43mfile\u001b[49m\u001b[43m,\u001b[49m\u001b[43m \u001b[49m\u001b[38;5;241;43m*\u001b[39;49m\u001b[43margs\u001b[49m\u001b[43m,\u001b[49m\u001b[43m \u001b[49m\u001b[38;5;241;43m*\u001b[39;49m\u001b[38;5;241;43m*\u001b[39;49m\u001b[43mkwargs\u001b[49m\u001b[43m)\u001b[49m\n",
      "\u001b[0;31mIsADirectoryError\u001b[0m: [Errno 21] Is a directory: 'jsons/Testing'"
     ]
    }
   ],
   "source": [
    "ocr_pdf('TestN/Temp2/bruh.pdf','jsons/Testing')"
   ]
  },
  {
   "cell_type": "code",
   "execution_count": null,
   "id": "81a1a7c6-ebba-4213-8897-3b906b3dd4e0",
   "metadata": {},
   "outputs": [],
   "source": []
  }
 ],
 "metadata": {
  "kernelspec": {
   "display_name": "ocr_kern",
   "language": "python",
   "name": "ocr_kern"
  },
  "language_info": {
   "codemirror_mode": {
    "name": "ipython",
    "version": 3
   },
   "file_extension": ".py",
   "mimetype": "text/x-python",
   "name": "python",
   "nbconvert_exporter": "python",
   "pygments_lexer": "ipython3",
   "version": "3.9.17"
  }
 },
 "nbformat": 4,
 "nbformat_minor": 5
}
