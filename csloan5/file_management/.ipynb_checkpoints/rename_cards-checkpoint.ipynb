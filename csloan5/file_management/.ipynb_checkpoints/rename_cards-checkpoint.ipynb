{
 "cells": [
  {
   "cell_type": "code",
   "execution_count": null,
   "id": "456c9c4f-00f7-4e32-97e1-3bd9acffd862",
   "metadata": {},
   "outputs": [],
   "source": [
    "import os\n",
    "\n",
    "\n",
    "box4N = '/pfs/tc1/project/arcc-students/OilWellProject2023.Summer/Master/non_blank/Box4/'\n",
    "\n",
    "box4B = '/pfs/tc1/project/arcc-students/OilWellProject2023.Summer/Master/blank/Box4/'\n",
    "\n",
    "box3N = '/pfs/tc1/project/arcc-students/OilWellProject2023.Summer/Master/non_blank/Box3/'\n",
    "box8N = '/pfs/tc1/project/arcc-students/OilWellProject2023.Summer/Master/non_blank/Box8/'\n",
    "box3B = '/pfs/tc1/project/arcc-students/OilWellProject2023.Summer/Master/blank/Box3/'\n",
    "box8B = '/pfs/tc1/project/arcc-students/OilWellProject2023.Summer/Master/blank/Box8/'\n",
    "\n",
    "box7N = '/pfs/tc1/project/arcc-students/OilWellProject2023.Summer/Master/non_blank/Box7/'\n",
    "box12N = '/pfs/tc1/project/arcc-students/OilWellProject2023.Summer/Master/non_blank/Box12/'\n",
    "box7B = '/pfs/tc1/project/arcc-students/OilWellProject2023.Summer/Master/blank/Box7/'\n",
    "box12B = '/pfs/tc1/project/arcc-students/OilWellProject2023.Summer/Master/blank/Box12/'\n",
    "\n",
    "As = [box3N, box3B, box7N, box7B]\n",
    "Bs = [box4N, box4B, box8N, box8B, box12N, box12B]\n",
    "\n",
    "for thedir in Bs:\n",
    "    for file in os.listdir(thedir):\n",
    "        if file[:3] == '196' or file[:3] == '294' or file[:3] == '373':\n",
    "            new_name = file[:8]+'b'+file[8:]\n",
    "            print(new_name)\n",
    "            os.rename(thedir+file, thedir+new_name)\n"
   ]
  },
  {
   "cell_type": "code",
   "execution_count": 12,
   "id": "3b2a89e4-29d4-41ea-9900-fde9b910e019",
   "metadata": {},
   "outputs": [],
   "source": [
    "import shutil\n",
    "import os\n",
    "box10 = '/pfs/tc1/project/arcc-students/enhanced_oil_recovery_cards/BOX 10 (219-247)/'\n",
    "a_dir = '/pfs/tc1/project/arcc-students/enhanced_oil_recovery_cards/BOX 10 (219-247)/229 T37N R86W-T37N R117W'\n",
    "b_dir = '/pfs/tc1/project/arcc-students/enhanced_oil_recovery_cards/BOX 10 (219-247)/229 T38N R82W-T38N R115W'\n",
    "\n",
    "a_targ = '/pfs/tc1/project/arcc-students/OilWellProject2023.Summer/Master/non_blank/box10dupe/a/'\n",
    "b_targ = '/pfs/tc1/project/arcc-students/OilWellProject2023.Summer/Master/non_blank/box10dupe/b/'\n",
    "norm = '/pfs/tc1/project/arcc-students/OilWellProject2023.Summer/Master/non_blank/box10dupe/'\n",
    "\n",
    "for folder, subfolders, files in os.walk(box10):\n",
    "#     print(folder)\n",
    "    for file in files:\n",
    "        filename = os.path.join(folder, file)\n",
    "        if folder == a_dir:\n",
    "            shutil.copy(filename, a_targ+file)\n",
    "        elif folder == b_dir:\n",
    "            shutil.copy(filename, b_targ+file)\n",
    "        else:\n",
    "            shutil.copy(filename, norm+file)"
   ]
  },
  {
   "cell_type": "code",
   "execution_count": null,
   "id": "dc9f047b-789d-4c41-918b-414311219baa",
   "metadata": {},
   "outputs": [],
   "source": []
  }
 ],
 "metadata": {
  "kernelspec": {
   "display_name": "normal_kernel",
   "language": "python",
   "name": "normal_kernel"
  },
  "language_info": {
   "codemirror_mode": {
    "name": "ipython",
    "version": 3
   },
   "file_extension": ".py",
   "mimetype": "text/x-python",
   "name": "python",
   "nbconvert_exporter": "python",
   "pygments_lexer": "ipython3",
   "version": "3.10.11"
  }
 },
 "nbformat": 4,
 "nbformat_minor": 5
}
