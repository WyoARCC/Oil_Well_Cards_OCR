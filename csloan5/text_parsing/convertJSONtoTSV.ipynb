{
 "cells": [
  {
   "cell_type": "code",
   "execution_count": 37,
   "id": "3d9bf647-cde0-4877-8a89-03ed969195aa",
   "metadata": {},
   "outputs": [
    {
     "name": "stdout",
     "output_type": "stream",
     "text": [
      "<class 'dict'>\n"
     ]
    }
   ],
   "source": [
    "import json\n",
    "import pandas as pd\n",
    "\n",
    "def convert_JSON_to_df(filename):\n",
    "    \"\"\"Takes a file path string to a JSON file outputted by Cloud Vision and\n",
    "    converts that JSON to a Pandas Dataframe.\n",
    "    \n",
    "    Parameters:\n",
    "        filename: String of the location of the JSON file.\n",
    "    Returns:\n",
    "        df: A pandas dataframe containing relevant information from the JSON\n",
    "        files\n",
    "    \"\"\"\n",
    "    \n",
    "    # Opening JSON file and store it in dictionary\n",
    "    with open(filename) as f:\n",
    "        data = json.load(f)\n",
    "    # Create new dataframe and set the header\n",
    "    df = pd.DataFrame(columns=[\n",
    "        'level', 'page_num', 'block_num', 'par_num', 'line_num', 'word_num',\n",
    "        'left', 'top', 'width', 'height', 'conf', 'text'\n",
    "    ])\n",
    "\n",
    "    # Loop through the dictionary and extract text data and positional data\n",
    "    for i in range(1, len(data['textAnnotations'])):\n",
    "        text = data['textAnnotations'][i]['description']\n",
    "        conf = data['textAnnotations'][i]['confidence']\n",
    "        top_l = data['textAnnotations'][i]['boundingPoly']['vertices'][0]\n",
    "        top_r = data['textAnnotations'][i]['boundingPoly']['vertices'][1]\n",
    "        bottom_r = data['textAnnotations'][i]['boundingPoly']['vertices'][2]\n",
    "        bottom_l = data['textAnnotations'][i]['boundingPoly']['vertices'][3]\n",
    "        # Use bounding box vertices to calculate the left-most and top-most \n",
    "        # coordinate of each word, and the width and height of the words\n",
    "        left = min(top_l['x'], bottom_l['x'])\n",
    "        right = max(top_r['x'], bottom_r['x'])\n",
    "        top = min(top_l['y'], top_r['y'])\n",
    "        bottom = max(bottom_l['y'], bottom_r['y'])\n",
    "        width = right - left\n",
    "        height = bottom - top\n",
    "        # Add the information to the dataframe\n",
    "        df.loc[len(df.index)] = ['json', '1', '0', '0', '0', '0', left, top, width, height, conf, text]\n",
    "    return df\n",
    "\n",
    "def main():\n",
    "    filename = '/project/arcc-students/crothfu1/OilWellProject/Code/Slides/json/145-0204.json'\n",
    "    df = convert_JSON_to_df(filename)\n",
    "    return\n",
    "\n",
    "if __name__ == '__main__':\n",
    "    main()"
   ]
  },
  {
   "cell_type": "code",
   "execution_count": null,
   "id": "bebeb03f-c0a9-481f-836f-f5f9f2b7fc37",
   "metadata": {},
   "outputs": [],
   "source": []
  }
 ],
 "metadata": {
  "kernelspec": {
   "display_name": "normal_kernel",
   "language": "python",
   "name": "normal_kernel"
  },
  "language_info": {
   "codemirror_mode": {
    "name": "ipython",
    "version": 3
   },
   "file_extension": ".py",
   "mimetype": "text/x-python",
   "name": "python",
   "nbconvert_exporter": "python",
   "pygments_lexer": "ipython3",
   "version": "3.10.11"
  }
 },
 "nbformat": 4,
 "nbformat_minor": 5
}
