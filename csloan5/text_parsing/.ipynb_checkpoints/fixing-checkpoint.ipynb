{
 "cells": [
  {
   "cell_type": "code",
   "execution_count": 2,
   "metadata": {},
   "outputs": [
    {
     "name": "stdout",
     "output_type": "stream",
     "text": [
      "all Good\n"
     ]
    }
   ],
   "source": [
    "import os\n",
    "pdf_dir1 = '/pfs/tc1/project/arcc-students/OilWellProject2023.Summer/crothfu1/non_blank_pages/Box13Text/'\n",
    "pdf_dir2 = '/pfs/tc1/project/arcc-students/enhanced_oil_recovery_cards/BOX 12 (353-373)/'\n",
    "filenames = []\n",
    "for folder, subfolders, files in os.walk(pdf_dir2):\n",
    "        for file in files:\n",
    "            if file.endswith('.pdf'):\n",
    "                #Add all the .pdf filenames to a list\n",
    "                # filename = os.path.join(folder, file)\n",
    "                filenames.append(os.path.join(pdf_dir1, file))\n",
    "\n",
    "# for name in filenames[:10]:\n",
    "#     print(name)\n",
    "                \n",
    "if all(list(map(os.path.isfile,filenames))):\n",
    "    print(\"all Good\")\n",
    "else:\n",
    "    print(\"notallgood\")\n"
   ]
  },
  {
   "cell_type": "code",
   "execution_count": null,
   "metadata": {},
   "outputs": [],
   "source": []
  }
 ],
 "metadata": {
  "kernelspec": {
   "display_name": "GPUs",
   "language": "python",
   "name": "gpus"
  },
  "language_info": {
   "codemirror_mode": {
    "name": "ipython",
    "version": 3
   },
   "file_extension": ".py",
   "mimetype": "text/x-python",
   "name": "python",
   "nbconvert_exporter": "python",
   "pygments_lexer": "ipython3",
   "version": "3.9.16"
  }
 },
 "nbformat": 4,
 "nbformat_minor": 4
}
