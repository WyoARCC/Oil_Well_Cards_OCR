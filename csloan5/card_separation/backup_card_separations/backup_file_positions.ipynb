{
 "cells": [
  {
   "cell_type": "code",
   "execution_count": 15,
   "id": "121d3789-ae86-4fdb-aafc-49ecee90fcfa",
   "metadata": {},
   "outputs": [],
   "source": [
    "import os\n",
    "\n",
    "directory = '/project/arcc-students/OilWellProject2023.Summer/typeOne_2//'\n",
    "output = '/project/arcc-students/csloan5/OilWellCards/card_separation/backup_card_separations/'\n",
    "\n",
    "filenames = []\n",
    "for folder, subfolders, files in os.walk(directory):\n",
    "    for file in files:\n",
    "        filename = os.path.join(folder, file)\n",
    "        filenames.append(filename)\n",
    "        \n",
    "filenames.sort()\n",
    "outFile = os.path.join(output, 'type_one_2.txt')\n",
    "with open(outFile, 'w') as out:\n",
    "    for f in filenames:\n",
    "        print(f, file=out)"
   ]
  },
  {
   "cell_type": "code",
   "execution_count": null,
   "id": "ca2b0750-3de8-4c18-9f99-510f804c2e31",
   "metadata": {},
   "outputs": [],
   "source": []
  }
 ],
 "metadata": {
  "kernelspec": {
   "display_name": "normal_kernel",
   "language": "python",
   "name": "normal_kernel"
  },
  "language_info": {
   "codemirror_mode": {
    "name": "ipython",
    "version": 3
   },
   "file_extension": ".py",
   "mimetype": "text/x-python",
   "name": "python",
   "nbconvert_exporter": "python",
   "pygments_lexer": "ipython3",
   "version": "3.10.11"
  }
 },
 "nbformat": 4,
 "nbformat_minor": 5
}
