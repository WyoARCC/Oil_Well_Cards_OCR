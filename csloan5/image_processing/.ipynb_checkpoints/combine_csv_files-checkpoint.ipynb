{
 "cells": [
  {
   "cell_type": "code",
   "execution_count": 6,
   "id": "3cee2696-457c-4405-9e54-3770c933139a",
   "metadata": {},
   "outputs": [],
   "source": [
    "import csv\n",
    "\n",
    "path = \"/project/arcc-students/csloan5/OilWellCards_project/code/datasets/\"\n",
    "outfile = \"/project/arcc-students/csloan5/OilWellCards_project/code/datasets/Combined.csv\"\n"
   ]
  },
  {
   "cell_type": "code",
   "execution_count": 8,
   "id": "5a370bd2-347e-4a4e-a61e-677af70493ab",
   "metadata": {},
   "outputs": [],
   "source": [
    "# Open the input CSV file and create a new output file\n",
    "with open(outfile, 'w', newline='') as output_file:\n",
    "    input_file = open(path + \"mnist_train.csv\", 'r')\n",
    "    \n",
    "    reader = csv.reader(input_file)\n",
    "    writer = csv.writer(output_file)\n",
    "\n",
    "    # Iterate over each row in the input CSV\n",
    "    for row in reader:\n",
    "        writer.writerow(row)\n",
    "\n",
    "    input_file.close()\n",
    "    \n",
    "    input_file = open(path + \"mnist_test.csv\", 'r')\n",
    "    reader = csv.reader(input_file)\n",
    "    \n",
    "    for row in reader:\n",
    "        writer.writerow(row)\n",
    "    \n",
    "    input_file.close()\n",
    "    \n",
    "    input_file = open(path + \"A-Z_dataset.csv\", 'r')\n",
    "    reader = csv.reader(input_file)\n",
    "    for row in reader:\n",
    "        # Check if the row has at least one column\n",
    "        if row:\n",
    "            # Update the value in the first column by adding 10\n",
    "            row[0] = str(int(row[0]) + 10)\n",
    "\n",
    "        # Write the updated row to the output CSV\n",
    "        writer.writerow(row)\n",
    "        \n",
    "    input_file.close()\n",
    "\n",
    "output_file.close()"
   ]
  },
  {
   "cell_type": "code",
   "execution_count": null,
   "id": "a6f27b1b-baba-43d2-b895-e27f8a5afcca",
   "metadata": {},
   "outputs": [],
   "source": []
  }
 ],
 "metadata": {
  "kernelspec": {
   "display_name": "tf_test",
   "language": "python",
   "name": "tf_test"
  },
  "language_info": {
   "codemirror_mode": {
    "name": "ipython",
    "version": 3
   },
   "file_extension": ".py",
   "mimetype": "text/x-python",
   "name": "python",
   "nbconvert_exporter": "python",
   "pygments_lexer": "ipython3",
   "version": "3.9.16"
  }
 },
 "nbformat": 4,
 "nbformat_minor": 5
}
