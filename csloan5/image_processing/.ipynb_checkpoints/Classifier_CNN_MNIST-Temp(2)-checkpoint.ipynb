{
 "cells": [
  {
   "cell_type": "markdown",
   "id": "b2b83f63",
   "metadata": {},
   "source": [
    "CNN For classification\n",
    "Dataset: MNIST"
   ]
  },
  {
   "cell_type": "code",
   "execution_count": 28,
   "id": "5bbe3bee",
   "metadata": {},
   "outputs": [],
   "source": [
    "#import libraries\n",
    "import torch\n",
    "import torch.nn.functional as F\n",
    "import torch.nn as nn\n",
    "import numpy as np\n",
    "import matplotlib.pyplot as plt\n",
    "#torchvision is a library module containing datasets and transformation class to transform data\n",
    "import torchvision.datasets as datasets \n",
    "import torchvision.transforms as transforms\n",
    "#Subset class allows for creating a subset of a given dataset\n",
    "from torch.utils.data import Subset\n",
    "#Import dataloader\n",
    "from torch.utils.data import DataLoader\n",
    "import torchsummary\n",
    "from torchsummary import summary"
   ]
  },
  {
   "cell_type": "code",
   "execution_count": 29,
   "id": "9400e36f",
   "metadata": {},
   "outputs": [],
   "source": [
    "#Develop a transform to convert images into tensor images\n",
    "\"\"\"The transforms.ToTensor() converts a PIL image or numpy.ndarray of shape (HWC)\n",
    "in the range [0,255] to a torch.FloatTensor of shape (CHW) in the range [0,1]. \n",
    "The normalization works only if PIL image is of one of the valid modes, example: RGB, and\n",
    "numpy.ndarray data type is np.uint8\"\"\"\n",
    "transform_img = transforms.Compose([transforms.ToTensor()])\n",
    "# convert the image to a tensor, compose applies transform that you desire for each image"
   ]
  },
  {
   "cell_type": "code",
   "execution_count": 30,
   "id": "911343ea",
   "metadata": {},
   "outputs": [
    {
     "name": "stdout",
     "output_type": "stream",
     "text": [
      "Size of the dataset:  60000\n",
      "Size of the validation dataset:  10000\n",
      "Size of the training dataset:  50000\n",
      "2\n"
     ]
    },
    {
     "data": {
      "text/plain": [
       "<matplotlib.image.AxesImage at 0x12e0036ff10>"
      ]
     },
     "execution_count": 30,
     "metadata": {},
     "output_type": "execute_result"
    },
    {
     "data": {
      "image/png": "[encoded data removed]",
      "text/plain": [
       "<Figure size 432x288 with 1 Axes>"
      ]
     },
     "metadata": {
      "needs_background": "light"
     },
     "output_type": "display_data"
    }
   ],
   "source": [
    "#DownLoad the MNIST training dataset\n",
    "mnist_dataset = datasets.MNIST(root='data', train=True, download=True, transform=transform_img) # represents the image in the form of a tensor\n",
    "print('Size of the dataset: ',len(mnist_dataset))\n",
    "\n",
    "\"\"\"Using the Subset class creating a validation dataset of the first 10,000 images\n",
    "The torch.arange creates a 1D tensor with range indices ranging from start = 0 to end-1.\n",
    "In the line below the arange creates a 1D tensor containing range indices 0 to 9999. The\n",
    "Subset class uses the indices to extract data to create a subset \"\"\"\n",
    "mnist_val_dataset = Subset(mnist_dataset,torch.arange(10000))\n",
    "print('Size of the validation dataset: ',len(mnist_val_dataset))\n",
    "\n",
    "#Create a training data subset starting at indices 10,000 and ending at 59,999\n",
    "mnist_train_dataset = Subset(mnist_dataset,torch.arange(10000,len(mnist_dataset)))\n",
    "print('Size of the training dataset: ',len(mnist_train_dataset))\n",
    "\n",
    "#Display a sample training instance\n",
    "img,label = mnist_train_dataset[100]\n",
    "print(label)\n",
    "#Display the training input features\n",
    "plt.imshow(img[0],cmap='gray')\n"
   ]
  },
  {
   "cell_type": "code",
   "execution_count": 31,
   "id": "34ae4b54",
   "metadata": {},
   "outputs": [],
   "source": [
    "#Create dataloader objects to load minibatches of the training and validation dataset\n",
    "batchSize = 64\n",
    "#Create a dataloader object to create batches of size = batchSize\n",
    "train_dl = DataLoader(mnist_train_dataset,batch_size=batchSize,shuffle=True) \n",
    "val_dl = DataLoader(mnist_val_dataset,batch_size=batchSize,shuffle=False) # we typically do not shuffle validation set\n"
   ]
  },
  {
   "cell_type": "code",
   "execution_count": 32,
   "id": "1b0c9fda",
   "metadata": {},
   "outputs": [
    {
     "name": "stdout",
     "output_type": "stream",
     "text": [
      "torch.Size([1, 1, 28, 28])\n",
      "torch.Size([1, 32, 28, 28])\n",
      "torch.Size([1, 1, 14, 14])\n",
      "torch.Size([1, 64, 7, 7])\n"
     ]
    }
   ],
   "source": [
    "\"\"\"Design CNN Architecture using the Sequential Class container \n",
    "to which modules are added it in the order they are created\"\"\"\n",
    "\n",
    "model = nn.Sequential()\n",
    "\n",
    "\"\"\"Add the first convolution layer with the following parameters:\n",
    "    in_channels = 1, since the image is gray scale\n",
    "    out_channels = 32, the layer has to learn 32 kernels and produce 32 feature maps. i.e. want to learn 32 feature maps for\n",
    "    each image. the output of the first conv layer is 32 feature maps.\n",
    "    kernel_size = 5 # want the kernel size to be 5x5\n",
    "    padding = 2\n",
    "    using the add_module function. The add_module function takes a user defined name \n",
    "    of the layer as the first argument, and a nn object such as Conv2d\n",
    "    \"\"\"\n",
    "model.add_module('conv1',\n",
    "                nn.Conv2d(in_channels = 1, \n",
    "                         out_channels = 32,\n",
    "                         kernel_size = 5,\n",
    "                         padding = 2))\n",
    "\n",
    "# debugging help:\n",
    "\n",
    "dummy_x = torch.ones((1,1,28,28)) #no. of image batch size, channel, H, W\n",
    "print(dummy_x.shape)\n",
    "# forward pass of the model w/ dummy data\n",
    "print(model.conv1(dummy_x).shape)\n",
    "\n",
    "\n",
    "#Add the activation function or detection layer\n",
    "model.add_module('relu1', nn.ReLU()) # this will perform relu on 1,1,32,28 tensor output of first conv layer\n",
    "\n",
    "#Add a Max pool layer with default stride = None, and Padding = 0\n",
    "model.add_module('pool1', nn.MaxPool2d(kernel_size = 2)) #kernel size here is the size of the pooling layers kernels not conv.\n",
    "\n",
    "dummy_x = torch.ones((1,1,28,28))# since padding is 0 then the size of the output will reduce \n",
    "print(model.pool1(dummy_x).shape) # typically, pool stride is 1 because the pool is already reduced from no padding\n",
    "\n",
    "#Add a second Convolution layer\n",
    "model.add_module('conv2',\n",
    "                nn.Conv2d(in_channels = 32, # the output of the prev layer had 32 feature maps \n",
    "                         out_channels = 64, # want to learn 64 features\n",
    "                         kernel_size = 5,\n",
    "                         padding = 2))\n",
    "#Add the activation function or detection layer\n",
    "model.add_module('relu2', nn.ReLU())\n",
    "#Add a Max pool layer with default stride = None, and Padding = 0\n",
    "model.add_module('pool2', nn.MaxPool2d(kernel_size = 2))\n",
    "\n",
    "#Create a dummy tensor to test the Convolution architecture\n",
    "dummy_x = torch.ones((1,64,14,14))\n",
    "#Forward pass with dummy_x\n",
    "print(model.pool1(dummy_x).shape)"
   ]
  },
  {
   "cell_type": "code",
   "execution_count": 33,
   "id": "387c2478",
   "metadata": {},
   "outputs": [
    {
     "data": {
      "text/plain": [
       "torch.Size([1, 3136])"
      ]
     },
     "execution_count": 33,
     "metadata": {},
     "output_type": "execute_result"
    }
   ],
   "source": [
    "#Flatten the grid output of the last convolution layer\n",
    "model.add_module('flatten', nn.Flatten())\n",
    "#Test the Flatten module\n",
    "dummy_x = torch.ones((1,1,28,28))\n",
    "model(dummy_x).shape"
   ]
  },
  {
   "cell_type": "code",
   "execution_count": 34,
   "id": "37b43685",
   "metadata": {},
   "outputs": [
    {
     "name": "stdout",
     "output_type": "stream",
     "text": [
      "Sequential(\n",
      "  (conv1): Conv2d(1, 32, kernel_size=(5, 5), stride=(1, 1), padding=(2, 2))\n",
      "  (relu1): ReLU()\n",
      "  (pool1): MaxPool2d(kernel_size=2, stride=2, padding=0, dilation=1, ceil_mode=False)\n",
      "  (conv2): Conv2d(32, 64, kernel_size=(5, 5), stride=(1, 1), padding=(2, 2))\n",
      "  (relu2): ReLU()\n",
      "  (pool2): MaxPool2d(kernel_size=2, stride=2, padding=0, dilation=1, ceil_mode=False)\n",
      "  (flatten): Flatten(start_dim=1, end_dim=-1)\n",
      "  (fc1): Linear(in_features=3136, out_features=1024, bias=True)\n",
      "  (relu3): ReLU()\n",
      "  (fc2): Linear(in_features=1024, out_features=10, bias=True)\n",
      ")\n"
     ]
    }
   ],
   "source": [
    "#Add a fully connected layer followed by an output layer with 10 outputs\n",
    "#Add the fully connected layer with 1024 neurons\n",
    "\n",
    "model.add_module('fc1', nn.Linear(3136,1024)) # 3136 inputs from the flatten , no. of neurons\n",
    "model.add_module('relu3', nn.ReLU())\n",
    "\n",
    "# since we are doing a multiclassification, we need to use cross entropy loss function\n",
    "\n",
    "\"\"\"Add the output layer without activation function\n",
    "In PyTorch when we use the CrossEntropyLoss function, PyTorch by default\n",
    "adds the softmax layer at the output\"\"\"\n",
    "\n",
    "model.add_module('fc2', nn.Linear(1024, 10))\n",
    "print(model)"
   ]
  },
  {
   "cell_type": "code",
   "execution_count": 35,
   "id": "86f37898",
   "metadata": {},
   "outputs": [
    {
     "name": "stdout",
     "output_type": "stream",
     "text": [
      "==========================================================================================\n",
      "Layer (type:depth-idx)                   Output Shape              Param #\n",
      "==========================================================================================\n",
      "├─Conv2d: 1-1                            [-1, 32, 28, 28]          832\n",
      "├─ReLU: 1-2                              [-1, 32, 28, 28]          --\n",
      "├─MaxPool2d: 1-3                         [-1, 32, 14, 14]          --\n",
      "├─Conv2d: 1-4                            [-1, 64, 14, 14]          51,264\n",
      "├─ReLU: 1-5                              [-1, 64, 14, 14]          --\n",
      "├─MaxPool2d: 1-6                         [-1, 64, 7, 7]            --\n",
      "├─Flatten: 1-7                           [-1, 3136]                --\n",
      "├─Linear: 1-8                            [-1, 1024]                3,212,288\n",
      "├─ReLU: 1-9                              [-1, 1024]                --\n",
      "├─Linear: 1-10                           [-1, 10]                  10,250\n",
      "==========================================================================================\n",
      "Total params: 3,274,634\n",
      "Trainable params: 3,274,634\n",
      "Non-trainable params: 0\n",
      "Total mult-adds (M): 13.88\n",
      "==========================================================================================\n",
      "Input size (MB): 0.00\n",
      "Forward/backward pass size (MB): 0.29\n",
      "Params size (MB): 12.49\n",
      "Estimated Total Size (MB): 12.79\n",
      "==========================================================================================\n"
     ]
    },
    {
     "data": {
      "text/plain": [
       "==========================================================================================\n",
       "Layer (type:depth-idx)                   Output Shape              Param #\n",
       "==========================================================================================\n",
       "├─Conv2d: 1-1                            [-1, 32, 28, 28]          832\n",
       "├─ReLU: 1-2                              [-1, 32, 28, 28]          --\n",
       "├─MaxPool2d: 1-3                         [-1, 32, 14, 14]          --\n",
       "├─Conv2d: 1-4                            [-1, 64, 14, 14]          51,264\n",
       "├─ReLU: 1-5                              [-1, 64, 14, 14]          --\n",
       "├─MaxPool2d: 1-6                         [-1, 64, 7, 7]            --\n",
       "├─Flatten: 1-7                           [-1, 3136]                --\n",
       "├─Linear: 1-8                            [-1, 1024]                3,212,288\n",
       "├─ReLU: 1-9                              [-1, 1024]                --\n",
       "├─Linear: 1-10                           [-1, 10]                  10,250\n",
       "==========================================================================================\n",
       "Total params: 3,274,634\n",
       "Trainable params: 3,274,634\n",
       "Non-trainable params: 0\n",
       "Total mult-adds (M): 13.88\n",
       "==========================================================================================\n",
       "Input size (MB): 0.00\n",
       "Forward/backward pass size (MB): 0.29\n",
       "Params size (MB): 12.49\n",
       "Estimated Total Size (MB): 12.79\n",
       "=========================================================================================="
      ]
     },
     "execution_count": 35,
     "metadata": {},
     "output_type": "execute_result"
    }
   ],
   "source": [
    "summary(model, torch.ones((1,1,28,28)))\n",
    "#put this on the report for take home"
   ]
  },
  {
   "cell_type": "code",
   "execution_count": 36,
   "id": "0b7041d2",
   "metadata": {},
   "outputs": [],
   "source": [
    "#Transfer the model to GPU\n",
    "device = torch.device('cuda:0')\n",
    "model = model.to(device)"
   ]
  },
  {
   "cell_type": "code",
   "execution_count": 37,
   "id": "7024ffbd",
   "metadata": {},
   "outputs": [],
   "source": [
    "#Select the loss function and the optimizer\n",
    "loss_fn = nn.CrossEntropyLoss()\n",
    "optimizer = torch.optim.Adam(model.parameters(), lr = 0.001)"
   ]
  },
  {
   "cell_type": "code",
   "execution_count": 43,
   "id": "702d964f",
   "metadata": {},
   "outputs": [],
   "source": [
    "#Implement the training function\n",
    "def training(model,num_epochs,train_dl,val_dl):\n",
    "    #Create a list initialized with zero values to store history of the training losses\n",
    "    loss_hist_train = [0]*num_epochs\n",
    "    \n",
    "    #Create a list initialized with zero values to store history of the training accuracy\n",
    "    accuracy_hist_train = [0]*num_epochs\n",
    "    \n",
    "    #Create a list initialized with zero values to store history of the validation losses\n",
    "    loss_hist_val = [0]*num_epochs\n",
    "    \n",
    "    #Create a list initialized with zero values to store history of the validation accuracy\n",
    "    accuracy_hist_val = [0]*num_epochs\n",
    "    \n",
    "    #Start the epoch loop\n",
    "    for epoch in range(num_epochs):\n",
    "        #Set the model for training mode\n",
    "        model.train()\n",
    "        \n",
    "        #Start the minibatch training loop\n",
    "        for x_batch,y_batch in train_dl:\n",
    "            #Transfer the minibatch input and label data to GPU\n",
    "            x_batch = x_batch.to(device)\n",
    "            y_batch = y_batch.to(device)\n",
    "            \n",
    "            #Perform the foward pass\n",
    "            pred = model(x_batch)\n",
    "            #Compute the loss\n",
    "            loss = loss_fn(pred,y_batch)\n",
    "            #backpropoagte the error\n",
    "            loss.backward()\n",
    "            #Perform weight update\n",
    "            optimizer.step()\n",
    "            #zero the gradient for the next minibatch iteration\n",
    "            optimizer.zero_grad()\n",
    "            #add the batch loss to the list of history of train losses\n",
    "            loss_hist_train[epoch] += loss.item()*y_batch.size(0)\n",
    "            #Determine the accuracy for the minibatch\n",
    "            #argmax function returns the indices of the maximum value of all elements in the input tensor\n",
    "            is_correct = (torch.argmax(pred,dim=1) == y_batch).float() # pred is a matrix of size batch_size x output of NN\n",
    "            #add the batch accuracy\n",
    "            accuracy_hist_train[epoch] += is_correct.sum().cpu()\n",
    "        \n",
    "        #Compute the average training loss and accuracy of an epoch\n",
    "        loss_hist_train[epoch] /= len(train_dl.dataset)\n",
    "        accuracy_hist_train[epoch] /= len(train_dl.dataset)\n",
    "        \n",
    "        #Perform validation\n",
    "        #Change to model to evaluation state. no backpropagation\n",
    "        \n",
    "        with torch.no_grad():\n",
    "            for x_batch,y_batch in val_dl:\n",
    "                #Transfer the minibatch input and label data to GPU\n",
    "                x_batch = x_batch.to(device)\n",
    "                y_batch = y_batch.to(device)\n",
    "                #Perform the foward pass\n",
    "                pred = model(x_batch)\n",
    "                #Compute the loss\n",
    "                loss = loss_fn(pred,y_batch)\n",
    "                loss_hist_val[epoch] += loss.item()*y_batch.size(0)\n",
    "                #Determine the accuracy for the minibatch\n",
    "                is_correct = (torch.argmax(pred,dim=1) == y_batch).float()\n",
    "                #add the batch accuracy\n",
    "                accuracy_hist_val[epoch] += is_correct.sum().cpu()\n",
    "        \n",
    "        #Compute the average validation loss and accuracy of an epoch\n",
    "        loss_hist_val[epoch] /= len(val_dl.dataset)\n",
    "        accuracy_hist_val[epoch] /= len(val_dl.dataset)\n",
    "        \n",
    "        print(f'Epoch {epoch+1} accuracy: {accuracy_hist_train[epoch]:.4f} val_accuracy: {accuracy_hist_train[epoch]:.4f}')\n",
    "    return loss_hist_train, loss_hist_val, accuracy_hist_train, accuracy_hist_val\n",
    "            \n",
    "            \n",
    "        "
   ]
  },
  {
   "cell_type": "code",
   "execution_count": 39,
   "id": "d3c90ca7",
   "metadata": {},
   "outputs": [
    {
     "name": "stdout",
     "output_type": "stream",
     "text": [
      "Epoch 1 accuracy: 0.9603 val_accuracy: 0.9603\n",
      "Epoch 2 accuracy: 0.9877 val_accuracy: 0.9877\n",
      "Epoch 3 accuracy: 0.9912 val_accuracy: 0.9912\n",
      "Epoch 4 accuracy: 0.9941 val_accuracy: 0.9941\n",
      "Epoch 5 accuracy: 0.9955 val_accuracy: 0.9955\n",
      "Epoch 6 accuracy: 0.9966 val_accuracy: 0.9966\n",
      "Epoch 7 accuracy: 0.9969 val_accuracy: 0.9969\n",
      "Epoch 8 accuracy: 0.9978 val_accuracy: 0.9978\n",
      "Epoch 9 accuracy: 0.9973 val_accuracy: 0.9973\n",
      "Epoch 10 accuracy: 0.9973 val_accuracy: 0.9973\n",
      "Epoch 11 accuracy: 0.9983 val_accuracy: 0.9983\n",
      "Epoch 12 accuracy: 0.9979 val_accuracy: 0.9979\n",
      "Epoch 13 accuracy: 0.9994 val_accuracy: 0.9994\n",
      "Epoch 14 accuracy: 0.9983 val_accuracy: 0.9983\n",
      "Epoch 15 accuracy: 0.9984 val_accuracy: 0.9984\n",
      "Epoch 16 accuracy: 0.9994 val_accuracy: 0.9994\n",
      "Epoch 17 accuracy: 0.9979 val_accuracy: 0.9979\n",
      "Epoch 18 accuracy: 0.9988 val_accuracy: 0.9988\n",
      "Epoch 19 accuracy: 0.9986 val_accuracy: 0.9986\n",
      "Epoch 20 accuracy: 0.9992 val_accuracy: 0.9992\n"
     ]
    }
   ],
   "source": [
    "#Seed the random generator\n",
    "torch.manual_seed(5)\n",
    "#Set desired number of epochs for training\n",
    "num_epochs = 20\n",
    "#start Training\n",
    "hist = training(model, num_epochs, train_dl, val_dl)"
   ]
  },
  {
   "cell_type": "code",
   "execution_count": 40,
   "id": "18c76295",
   "metadata": {},
   "outputs": [
    {
     "data": {
      "image/png": "[encoded data removed]",
      "text/plain": [
       "<Figure size 864x288 with 2 Axes>"
      ]
     },
     "metadata": {
      "needs_background": "light"
     },
     "output_type": "display_data"
    }
   ],
   "source": [
    "#Plot the training and validation loss and accuracy\n",
    "x_arr = np.arange(len(hist[0])) + 1\n",
    "\n",
    "fig = plt.figure(figsize=(12, 4))\n",
    "ax = fig.add_subplot(1, 2, 1)\n",
    "ax.plot(x_arr, hist[0], '-o', label='Train loss')\n",
    "ax.plot(x_arr, hist[1], '--<', label='Validation loss')\n",
    "ax.set_xlabel('Epoch', size=15)\n",
    "ax.set_ylabel('Loss', size=15)\n",
    "ax.legend(fontsize=15)\n",
    "ax = fig.add_subplot(1, 2, 2)\n",
    "ax.plot(x_arr, hist[2], '-o', label='Train acc.')\n",
    "ax.plot(x_arr, hist[3], '--<', label='Validation acc.')\n",
    "ax.legend(fontsize=15)\n",
    "ax.set_xlabel('Epoch', size=15)\n",
    "ax.set_ylabel('Accuracy', size=15)\n",
    "\n",
    "plt.show()"
   ]
  },
  {
   "cell_type": "code",
   "execution_count": 44,
   "id": "117af3fc",
   "metadata": {},
   "outputs": [
    {
     "name": "stdout",
     "output_type": "stream",
     "text": [
      "Test accuracy: 0.9897\n"
     ]
    }
   ],
   "source": [
    "#Measure performace with the test data set\n",
    "mnist_test_dataset = datasets.MNIST(root='data', train=False, download=True, transform=transform_img)\n",
    "torch.cuda.synchronize()\n",
    "model_cpu = model.cpu()\n",
    "pred = model(mnist_test_dataset.data.unsqueeze(1) / 255.)\n",
    "is_correct = (torch.argmax(pred, dim=1) == mnist_test_dataset.targets).float()\n",
    "print(f'Test accuracy: {is_correct.mean():.4f}') "
   ]
  },
  {
   "cell_type": "code",
   "execution_count": 42,
   "id": "f907e93c",
   "metadata": {},
   "outputs": [
    {
     "data": {
      "image/png": "[encoded data removed]",
      "text/plain": [
       "<Figure size 864x288 with 12 Axes>"
      ]
     },
     "metadata": {},
     "output_type": "display_data"
    }
   ],
   "source": [
    "fig = plt.figure(figsize=(12, 4))\n",
    "for i in range(12):\n",
    "    ax = fig.add_subplot(2, 6, i+1)\n",
    "    ax.set_xticks([]); ax.set_yticks([])\n",
    "    img = mnist_test_dataset[i][0][0, :, :]\n",
    "    pred = model(img.unsqueeze(0).unsqueeze(1))\n",
    "    y_pred = torch.argmax(pred)\n",
    "    ax.imshow(img, cmap='gray_r')\n",
    "    ax.text(0.9, 0.1, y_pred.item(), \n",
    "            size=15, color='blue',\n",
    "            horizontalalignment='center',\n",
    "            verticalalignment='center', \n",
    "            transform=ax.transAxes)\n",
    "\n",
    "plt.show()"
   ]
  },
  {
   "cell_type": "code",
   "execution_count": null,
   "id": "234c0cc5",
   "metadata": {},
   "outputs": [],
   "source": []
  }
 ],
 "metadata": {
  "kernelspec": {
   "display_name": "Python 3 (ipykernel)",
   "language": "python",
   "name": "python3"
  },
  "language_info": {
   "codemirror_mode": {
    "name": "ipython",
    "version": 3
   },
   "file_extension": ".py",
   "mimetype": "text/x-python",
   "name": "python",
   "nbconvert_exporter": "python",
   "pygments_lexer": "ipython3",
   "version": "3.9.12"
  }
 },
 "nbformat": 4,
 "nbformat_minor": 5
}
