{
 "cells": [
  {
   "cell_type": "code",
   "execution_count": 7,
   "id": "4e6af93f-e81e-4964-8307-540e8928eb77",
   "metadata": {},
   "outputs": [],
   "source": [
    "import cv2\n",
    "import numpy as np"
   ]
  },
  {
   "cell_type": "code",
   "execution_count": 5,
   "id": "923515b4-53e7-4500-9b81-60219a24bf83",
   "metadata": {},
   "outputs": [
    {
     "data": {
      "text/plain": [
       "True"
      ]
     },
     "execution_count": 5,
     "metadata": {},
     "output_type": "execute_result"
    }
   ],
   "source": [
    "\"\"\"\n",
    " This script rotates any cards that are horizontal in their original pictures\n",
    " I have yet to figure out how to automate this\n",
    "\"\"\"\n",
    "\n",
    "imgPath = '/project/arcc-students/csloan5/OilWellCards_project/OilWellData/log_cards/'\n",
    "outputDir = '/project/arcc-students/csloan5/OilWellCards_project/OilWellData/rotated_cards/'\n",
    "\n",
    "# Rotate Eori_card_3b.jpg\n",
    "img3b = cv2.imread(imgPath + 'Eori_card_3b.jpg')\n",
    "assert img3b is not None\n",
    "rotated = cv2.rotate(img3b, cv2.ROTATE_90_COUNTERCLOCKWISE)\n",
    "cv2.imwrite(outputDir + 'Eori_card_3b_rotated.jpg', rotated)\n",
    "\n",
    "# Rotate Eori_card_4b.jpg\n",
    "img4b = cv2.imread(imgPath + 'Eori_card_4b.jpg')\n",
    "assert img4b is not None\n",
    "rotated = cv2.rotate(img4b, cv2.ROTATE_90_CLOCKWISE)\n",
    "cv2.imwrite(outputDir + 'Eori_card_4b_rotated.jpg', rotated)\n",
    "\n",
    "# Rotate Eori_card_4c.jpg\n",
    "img4c = cv2.imread(imgPath + 'Eori_card_4c.jpg')\n",
    "assert img4c is not None\n",
    "rotated = cv2.rotate(img4c, cv2.ROTATE_90_COUNTERCLOCKWISE)\n",
    "cv2.imwrite(outputDir + 'Eori_card_4c_rotated.jpg', rotated)\n",
    "\n",
    "# Rotate Eori_card_7a.jpg\n",
    "img7a = cv2.imread(imgPath + 'Eori_card_7a.jpg')\n",
    "assert img7a is not None\n",
    "rotated = cv2.rotate(img7a, cv2.ROTATE_90_COUNTERCLOCKWISE)\n",
    "cv2.imwrite(outputDir + 'Eori_card_7a_rotated.jpg', rotated)\n",
    "\n",
    "# Rotate Eori_card_7b.jpg\n",
    "img7b = cv2.imread(imgPath + 'Eori_card_7b.jpg')\n",
    "assert img7b is not None\n",
    "rotated = cv2.rotate(img7b, cv2.ROTATE_90_CLOCKWISE)\n",
    "cv2.imwrite(outputDir + 'Eori_card_7b_rotated.jpg', rotated)\n"
   ]
  },
  {
   "cell_type": "code",
   "execution_count": null,
   "id": "d941e2b7-087b-4173-9a0d-197814fe7c43",
   "metadata": {},
   "outputs": [],
   "source": []
  }
 ],
 "metadata": {
  "kernelspec": {
   "display_name": "GPUs",
   "language": "python",
   "name": "gpus"
  },
  "language_info": {
   "codemirror_mode": {
    "name": "ipython",
    "version": 3
   },
   "file_extension": ".py",
   "mimetype": "text/x-python",
   "name": "python",
   "nbconvert_exporter": "python",
   "pygments_lexer": "ipython3",
   "version": "3.9.16"
  }
 },
 "nbformat": 4,
 "nbformat_minor": 5
}
