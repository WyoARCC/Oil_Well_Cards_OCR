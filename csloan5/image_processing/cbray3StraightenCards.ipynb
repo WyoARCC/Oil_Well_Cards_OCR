{
 "cells": [
  {
   "cell_type": "code",
   "execution_count": 3,
   "id": "2f0f947b-75b9-4155-b0f6-de282f3d5d38",
   "metadata": {},
   "outputs": [],
   "source": [
    "import numpy as np\n",
    "from skimage import io\n",
    "from skimage.color import rgb2gray\n",
    "from skimage.transform import rotate\n",
    "\n",
    "from deskew import determine_skew\n",
    "\n",
    "# This function grayscales the input image, then finds\n",
    "# the skew angle using the deskew package, then uses \n",
    "# the angle to deskew the image, returning a rotated\n",
    "# version of the image\n",
    "def deskewImage(imageInput):\n",
    "    image = io.imread(imageInput)\n",
    "    grayscale = rgb2gray(image)\n",
    "    angle = determine_skew(grayscale)\n",
    "    rotated = rotate(image, angle, resize=True) * 255\n",
    "    return rotated.astype(np.uint8)\n",
    "\n",
    "imageInput = \"/project/arcc-students/csloan5/OilWellCards_project/OilWellData/rotated_cards/Eori_card_4c_rotated.jpg\"\n",
    "\n",
    "outputDir = \"/project/arcc-students/csloan5/OilWellCards_project/OilWellData/unskewed_cards/Eori_card_4c_unskewed.jpg\"\n",
    "\n",
    "newImage = deskewImage(imageInput)\n",
    "\n",
    "# This outputs the unskewed version of the image to a\n",
    "# new location\n",
    "io.imsave(outputDir, newImage)"
   ]
  },
  {
   "cell_type": "code",
   "execution_count": null,
   "id": "8b7d2508-84cf-4f83-aa8f-0e45458b684a",
   "metadata": {},
   "outputs": [],
   "source": []
  }
 ],
 "metadata": {
  "kernelspec": {
   "display_name": "OCR_proj",
   "language": "python",
   "name": "ocr_proj"
  },
  "language_info": {
   "codemirror_mode": {
    "name": "ipython",
    "version": 3
   },
   "file_extension": ".py",
   "mimetype": "text/x-python",
   "name": "python",
   "nbconvert_exporter": "python",
   "pygments_lexer": "ipython3",
   "version": "3.9.16"
  }
 },
 "nbformat": 4,
 "nbformat_minor": 5
}
