{
 "cells": [
  {
   "cell_type": "code",
   "execution_count": 15,
   "id": "40d29e87-75ee-476e-8798-06276dfb42c6",
   "metadata": {
    "tags": []
   },
   "outputs": [],
   "source": [
    "import csv\n",
    "import os\n",
    "import glob\n",
    "import shutil\n",
    "import pandas as pd\n",
    "\n",
    "#all functions\n",
    "def ocr_status(csv_file, CardTypeID, status):\n",
    "    rows = []\n",
    "    with open(csv_file, 'r', newline='') as file:\n",
    "        reader = csv.DictReader(file)\n",
    "        fieldnames = reader.fieldnames\n",
    "        for row in reader:\n",
    "            rows.append(row)\n",
    "\n",
    "    for row in rows:\n",
    "        if row['CardTypeID'] == CardTypeID:\n",
    "            row['Status'] = status\n",
    "\n",
    "    with open(csv_file, 'w', newline='') as file:\n",
    "        writer = csv.DictWriter(file, fieldnames=fieldnames)\n",
    "        writer.writeheader()\n",
    "        writer.writerows(rows)\n",
    "    \n",
    "def sort_csv_by_column(csv_file, sort_column, ascend):\n",
    "    \n",
    "    df = pd.read_csv(csv_file)  # Read the CSV file into a DataFrame\n",
    "    df.sort_values([df.columns[sort_column]], axis=0, ascending=[ascend], inplace=True)  # Sort DataFrame by the chosen column\n",
    "    \n",
    "    # Write sorted data back to the CSV file\n",
    "    df.to_csv(csv_file, index=False)\n",
    "\n",
    "    \n",
    "def compare_and_print(csv_file, lst):\n",
    "    with open(csv_file, 'r', newline='') as file:\n",
    "        rows = list(csv.reader(file))\n",
    "\n",
    "    for row in rows:\n",
    "        if row[0] == str(lst[0]):\n",
    "            row[3:] = lst[1:]  # Update from column 4 onwards\n",
    "\n",
    "    with open(csv_file, 'w', newline='') as file:\n",
    "        writer = csv.writer(file)\n",
    "        writer.writerows(rows)\n",
    "        \n",
    "def compare_and_print_multi(csv_file, list_of_lists):\n",
    "    with open(csv_file, 'r', newline='') as file:\n",
    "        rows = list(csv.reader(file))\n",
    "\n",
    "    for lst in list_of_lists:\n",
    "        for row in rows:\n",
    "            if row[0] == str(lst[0]):\n",
    "                row[3:] = lst[1:]  # Update from column 4 onwards\n",
    "                break  # Break the inner loop if match found for efficiency\n",
    "\n",
    "    with open(csv_file, 'w', newline='') as file:\n",
    "        writer = csv.writer(file)\n",
    "        writer.writerows(rows)\n",
    "        \n",
    "\n",
    "def delete_rows(csv_file, start_row, end_row):\n",
    "    # Read the CSV file\n",
    "    with open(csv_file, 'r') as file:\n",
    "        reader = csv.reader(file)\n",
    "        rows = list(reader)\n",
    "\n",
    "    # Delete the specified range of rows\n",
    "    if start_row < len(rows):\n",
    "        del rows[start_row:end_row+1]\n",
    "\n",
    "    # Write the updated rows back to the CSV file\n",
    "    with open(csv_file, 'w', newline='') as file:\n",
    "        writer = csv.writer(file)\n",
    "        writer.writerows(rows)\n",
    "        \n",
    "\n",
    "def get_file_names(folder_path):\n",
    "    file_names = []\n",
    "    for file_path in glob.glob(os.path.join(folder_path, '*')):\n",
    "        if os.path.isfile(file_path):\n",
    "            file_names.append(os.path.basename(file_path))\n",
    "    return file_names\n",
    "\n",
    "\n",
    "def write_row(csv_file, array):\n",
    "    with open(csv_file, 'w', newline='') as csvfile:\n",
    "        writer = csv.writer(csvfile)\n",
    "        writer.writerow(array)\n",
    "        \n",
    "        \n",
    "def write_column(csv_file, array):\n",
    "    with open(csv_file, 'a', newline='') as csvfile:\n",
    "        writer = csv.writer(csvfile)\n",
    "        for item in array:\n",
    "            writer.writerow([item])\n",
    "        \n",
    "\n",
    "def append_column(csv_file, array, Offset, Card_Type_ID):\n",
    "    with open(csv_file, 'a', newline='') as csvfile:\n",
    "        writer = csv.writer(csvfile)\n",
    "        for item in array:\n",
    "            writer.writerow([None]*Offset+ [item]+ [Card_Type_ID])"
   ]
  },
  {
   "cell_type": "code",
   "execution_count": 25,
   "id": "687781bb-031b-445f-90fb-43ab607493d6",
   "metadata": {
    "tags": []
   },
   "outputs": [],
   "source": [
    "###Create a demo csv file# Define the data as an array\n",
    "\n",
    "csv_file = 'SpreadDemo.csv'\n",
    "header = ['FileNum','CardTypeID','Status','DocumentID','APINum','WellName',\n",
    "     'Operator','Location','Township','Range','Section',\n",
    "     'NSFootage','EWFootage','QtrQtr','LocationFootage',\n",
    "     'Elevation','SpudDate','CompDate','TDFormation','TotalDepth',\n",
    "     'PlugBackDepth','Casing','InitProd','ProdZone',',CardNumber','Status','Reeissued','DSTS_Cores']\n",
    "\n",
    "###format file and print headder\n",
    "if not os.path.exists(csv_file):\n",
    "    with open(csv_file, 'w') as file:\n",
    "        writer = csv.writer(file)\n",
    "        writer.writerow(header)\n",
    "    \n"
   ]
  },
  {
   "cell_type": "code",
   "execution_count": 17,
   "id": "e31932c5-407e-4343-a5fe-09cbe08cb517",
   "metadata": {},
   "outputs": [],
   "source": [
    "###Helpful tools to write to the file###"
   ]
  },
  {
   "cell_type": "code",
   "execution_count": 26,
   "id": "35bd9b3f-3195-489b-be41-43ce514717cd",
   "metadata": {},
   "outputs": [],
   "source": [
    "#Get names of files from folder \n",
    "\n",
    "folder_path = 'DemoFolder1'\n",
    "array = get_file_names(folder_path)\n",
    "\n",
    "#write file names in column 1, put the card type id in column 2 \n",
    "Offset = 0\n",
    "Card_Type_ID = 1\n",
    "append_column(csv_file, array, Offset, Card_Type_ID)"
   ]
  },
  {
   "cell_type": "code",
   "execution_count": 27,
   "id": "84684166-9059-4bff-8cdb-c68181041f97",
   "metadata": {},
   "outputs": [],
   "source": [
    "#Get names of files from folder \n",
    "\n",
    "folder_path = 'DemoFolder2'\n",
    "array = get_file_names(folder_path)\n",
    "\n",
    "#write file names in column 1, put the card type id in column 2 \n",
    "Offset = 0\n",
    "Card_Type_ID = 2\n",
    "append_column(csv_file, array, Offset, Card_Type_ID)"
   ]
  },
  {
   "cell_type": "code",
   "execution_count": 29,
   "id": "805d909e-14aa-43b8-9dcb-1e1d797f3263",
   "metadata": {},
   "outputs": [],
   "source": [
    "#Set a certain status to cards based on their type(could be tweaked to any other characterisic)\n",
    "\n",
    "CardTypeID = '1'\n",
    "status = 'Finished'\n",
    "ocr_status(csv_file, CardTypeID, status)\n",
    "ocr_status(csv_file, '2', 'Needs Ocr')\n"
   ]
  },
  {
   "cell_type": "code",
   "execution_count": 28,
   "id": "baefc638-9049-4531-b0c9-4b04226a096a",
   "metadata": {
    "tags": []
   },
   "outputs": [],
   "source": [
    "#easy editing for batches\n",
    "ocr_status(csv_file, '2', 'Finished')"
   ]
  },
  {
   "cell_type": "code",
   "execution_count": 31,
   "id": "422e1df4-a17d-4ba8-8b92-0b8bb53334b6",
   "metadata": {},
   "outputs": [],
   "source": [
    "#sort by certain row(could sort by status for easy access to what needs to be done\n",
    "\n",
    "sort_column = 3\n",
    "ascend = False\n",
    "sort_csv_by_column(csv_file, sort_column, ascend)\n"
   ]
  },
  {
   "cell_type": "code",
   "execution_count": 30,
   "id": "243c7684-3a2d-421d-bb78-132107f5b2c5",
   "metadata": {},
   "outputs": [],
   "source": [
    "#compare and print usage, will need to be changed for larger datasets\n",
    "\n",
    "given_list = ['317-0046.pdf.txt', '143','1343','343432']\n",
    "compare_and_print(csv_file, given_list)"
   ]
  },
  {
   "cell_type": "code",
   "execution_count": 32,
   "id": "8ea8180a-3a20-4019-9295-652a61d8bdf3",
   "metadata": {},
   "outputs": [],
   "source": [
    "#compare and print mutiple usage\n",
    "\n",
    "list_of_lists = [\n",
    "    ['310-0019.pdf.txt','2323','2323','565','4564'],\n",
    "    ['310-0009.pdf.txt','454','45434','r2345','2345'],\n",
    "    ['310-0015.pdf.txt','3343','24','23433','454'],\n",
    "]  \n",
    "\n",
    "compare_and_print_multi(csv_file, list_of_lists)"
   ]
  },
  {
   "cell_type": "code",
   "execution_count": null,
   "id": "8bad5281-cdea-4fef-b451-11a501aba351",
   "metadata": {},
   "outputs": [],
   "source": []
  }
 ],
 "metadata": {
  "kernelspec": {
   "display_name": "Python 3 (ipykernel)",
   "language": "python",
   "name": "python3"
  },
  "language_info": {
   "codemirror_mode": {
    "name": "ipython",
    "version": 3
   },
   "file_extension": ".py",
   "mimetype": "text/x-python",
   "name": "python",
   "nbconvert_exporter": "python",
   "pygments_lexer": "ipython3",
   "version": "3.9.5"
  }
 },
 "nbformat": 4,
 "nbformat_minor": 5
}
